{
 "cells": [
  {
   "cell_type": "code",
   "execution_count": 3,
   "id": "42845e4a",
   "metadata": {},
   "outputs": [],
   "source": [
    "from google_play_scraper import app\n",
    "from google_play_scraper import Sort, reviews_all\n",
    "\n",
    "import pandas as pd\n",
    "import numpy as np"
   ]
  },
  {
   "cell_type": "code",
   "execution_count": 12,
   "id": "6984c512",
   "metadata": {},
   "outputs": [],
   "source": [
    "reviews = reviews_all(\n",
    "    'id.go.jakarta.smartcity.jaki',\n",
    "    sleep_milliseconds=0, # defaults to 0\n",
    "    lang='id', # defaults to 'en'\n",
    "    country='id', # defaults to 'us'\n",
    "    sort=Sort.MOST_RELEVANT, # defaults to Sort.MOST_RELEVANT\n",
    ")"
   ]
  },
  {
   "cell_type": "code",
   "execution_count": 13,
   "id": "e0f7146c",
   "metadata": {},
   "outputs": [
    {
     "name": "stdout",
     "output_type": "stream",
     "text": [
      "                                               reviewId          userName  \\\n",
      "0     gp:AOqpTOEnUbk_19-MO6sPHl7z9Z5Dvv2zmmd5NY5Tcm8...       Della Nis94   \n",
      "1     gp:AOqpTOE-i_4JaevUcEqVHqOGXjj_JLsRO35lZeEgJU4...    Jakarta Review   \n",
      "2     gp:AOqpTOEpoOwOrsQPdu95u3g2IOcGGWUuurm70hWbqXs...       Shasha Rose   \n",
      "3     gp:AOqpTOGVbFw4LlhptIBTpsK1oThh1a_AwdKaxfaSvQX...  Kris Panji Mukti   \n",
      "4     gp:AOqpTOH7dBxQ2t4OLHM5M0pP4h-_vbwOX5xPK-SA2Lu...       Dwi Wiharti   \n",
      "...                                                 ...               ...   \n",
      "3792  gp:AOqpTOHqncs9t5sUcizRKn-YLJGthMVec2fBWqnnNvo...      Guswanda aja   \n",
      "3793  gp:AOqpTOGhGv4b5-Eh-I3NgdPpVeVTaW0a2DZsEc8p2ln...     Pandu Pertiwi   \n",
      "3794  gp:AOqpTOE6W-fCCTHWSCgUVUjdi4IgHbatx2tYI9CwrCL...     Fatta Alamsah   \n",
      "3795  gp:AOqpTOFUuglxmT9AIKUeR_VLPlhGmL6y_OcO9goQfK4...        Mung Dwi.p   \n",
      "3796  gp:AOqpTOEVMCsglRFZrxmcEPEqDgtW-mwnoosrqKaIXOX...   Valentinus Toto   \n",
      "\n",
      "                                              userImage  \\\n",
      "0     https://play-lh.googleusercontent.com/a/AATXAJ...   \n",
      "1     https://play-lh.googleusercontent.com/a-/AOh14...   \n",
      "2     https://play-lh.googleusercontent.com/a-/AOh14...   \n",
      "3     https://play-lh.googleusercontent.com/a/AATXAJ...   \n",
      "4     https://play-lh.googleusercontent.com/a/AATXAJ...   \n",
      "...                                                 ...   \n",
      "3792  https://play-lh.googleusercontent.com/a-/AOh14...   \n",
      "3793  https://play-lh.googleusercontent.com/a-/AOh14...   \n",
      "3794  https://play-lh.googleusercontent.com/a/AATXAJ...   \n",
      "3795  https://play-lh.googleusercontent.com/a-/AOh14...   \n",
      "3796  https://play-lh.googleusercontent.com/a/AATXAJ...   \n",
      "\n",
      "                                                content  score  thumbsUpCount  \\\n",
      "0     Waktu blm di upgrade ataupun udah upgrage sama...      1              3   \n",
      "1     Kirim kode verifikasi email gak masuk2 sampe s...      1             16   \n",
      "2     saya minta verifikasi sampe 3 kali gagal. teru...      2             33   \n",
      "3     Tolong perbaiki masalah untuk pendaftaran vaks...      3             23   \n",
      "4     Saya sudah daftar untuk vaksin booster moderna...      1              2   \n",
      "...                                                 ...    ...            ...   \n",
      "3792                                                 👍👍      5              0   \n",
      "3793                                                👍👍👍      5              0   \n",
      "3794                                                👍👍👍      4              0   \n",
      "3795                                    Mantap 👍👍👍👍👍👍👍👍      5              0   \n",
      "3796                                           Ok Ok Ok      1              0   \n",
      "\n",
      "     reviewCreatedVersion                  at  \\\n",
      "0                  1.2.45 2022-05-19 07:37:27   \n",
      "1                  1.2.44 2022-04-20 10:01:39   \n",
      "2                  1.2.43 2022-04-07 05:04:56   \n",
      "3                  1.2.43 2022-04-04 22:29:56   \n",
      "4                  1.2.44 2022-05-14 07:28:36   \n",
      "...                   ...                 ...   \n",
      "3792                 None 2021-07-26 12:55:44   \n",
      "3793                 None 2020-09-23 17:28:18   \n",
      "3794                 None 2020-08-27 08:32:30   \n",
      "3795                 None 2021-07-06 20:36:36   \n",
      "3796                 None 2020-06-25 13:17:18   \n",
      "\n",
      "                                           replyContent           repliedAt  \n",
      "0     Hi kak, mohon maaf atas ketidaknyamanannya. Mo... 2022-05-20 16:50:13  \n",
      "1     Hi kak, mohon maaf atas ketidaknyamanannya. Mo... 2022-04-20 14:37:30  \n",
      "2     Hi kak, mohon maaf atas ketidaknyamanannya. Mo... 2022-04-07 15:34:10  \n",
      "3     Hi kak, mohon maaf atas ketidaknyamanannya. Mo... 2022-04-05 10:51:58  \n",
      "4     Hi kak, mohon maaf atas ketidaknyamanannya. Mo... 2022-05-18 13:47:49  \n",
      "...                                                 ...                 ...  \n",
      "3792  Hi kak, Terima kasih atas ulasannya ya. Kami a... 2021-07-26 13:08:04  \n",
      "3793                                               None                 NaT  \n",
      "3794                                               None                 NaT  \n",
      "3795  Hi kak, Terima kasih atas ulasannya ya. Kami a... 2021-07-07 09:33:51  \n",
      "3796                                               None                 NaT  \n",
      "\n",
      "[3797 rows x 10 columns]\n"
     ]
    }
   ],
   "source": [
    "df = pd.DataFrame(np.array(reviews),columns=['review'])\n",
    "df = df.join(pd.DataFrame(df.pop('review').tolist()))\n",
    "\n",
    "\n",
    "print(df)"
   ]
  },
  {
   "cell_type": "code",
   "execution_count": 14,
   "id": "e2b90999",
   "metadata": {},
   "outputs": [],
   "source": [
    "df.to_csv(\"Data Crawling Most Relevant.csv\", index=False)"
   ]
  },
  {
   "cell_type": "code",
   "execution_count": null,
   "id": "711bb160",
   "metadata": {},
   "outputs": [],
   "source": []
  }
 ],
 "metadata": {
  "kernelspec": {
   "display_name": "Python 3 (ipykernel)",
   "language": "python",
   "name": "python3"
  },
  "language_info": {
   "codemirror_mode": {
    "name": "ipython",
    "version": 3
   },
   "file_extension": ".py",
   "mimetype": "text/x-python",
   "name": "python",
   "nbconvert_exporter": "python",
   "pygments_lexer": "ipython3",
   "version": "3.9.7"
  }
 },
 "nbformat": 4,
 "nbformat_minor": 5
}
